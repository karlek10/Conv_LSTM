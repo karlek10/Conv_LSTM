{
 "cells": [
  {
   "cell_type": "code",
   "execution_count": 12,
   "id": "infrared-killer",
   "metadata": {},
   "outputs": [],
   "source": [
    "import pandas as pd\n",
    "import numpy as np\n",
    "from torch.utils.data import Dataset, DataLoader\n",
    "import torch\n",
    "import datetime\n",
    "\n",
    "\n",
    "\n",
    "\n"
   ]
  },
  {
   "cell_type": "code",
   "execution_count": 4,
   "id": "accepting-context",
   "metadata": {},
   "outputs": [
    {
     "name": "stdout",
     "output_type": "stream",
     "text": [
      "           Date  Lienz-Falkensteinsteg  Ausservillgraten  Rabland  Sillian  \\\n",
      "0    29/03/2000                   6.11             0.754     3.82     50.9   \n",
      "1    30/03/2000                   5.78             0.761     3.69      0.2   \n",
      "2    31/03/2000                   5.83             0.771     3.90      2.6   \n",
      "3    01/04/2000                   6.32             0.780     3.85      0.2   \n",
      "4    02/04/2000                   6.44             0.782     3.84      0.3   \n",
      "..          ...                    ...               ...      ...      ...   \n",
      "290  13/01/2001                  13.50             1.070     7.16      0.0   \n",
      "291  14/01/2001                  12.20             0.992     6.50      0.0   \n",
      "292  15/01/2001                  11.30             0.972     6.08      0.0   \n",
      "293  16/01/2001                  10.90             0.959     6.02      0.0   \n",
      "294  17/01/2001                  10.50             0.948     6.02      0.8   \n",
      "\n",
      "     Hochberg  Innervillgraten  Anras  Obertilliach  Kartitsch  Prec_Toblach   \\\n",
      "0        41.0             40.1   34.3          33.0       39.0           13.4   \n",
      "1         0.5              0.0    0.0           2.6        0.0           24.6   \n",
      "2         2.1              3.4    1.7           2.4        1.8            0.0   \n",
      "3         0.3              0.0    0.0           0.0        0.0            0.8   \n",
      "4         0.6              0.8    0.2           0.0        0.2            0.0   \n",
      "..        ...              ...    ...           ...        ...            ...   \n",
      "290       0.0              0.0    0.0           0.8        0.0            0.0   \n",
      "291       0.0              0.0    0.0           0.0        0.0            0.0   \n",
      "292       0.0              0.0    0.0           0.0        0.0            0.0   \n",
      "293       0.0              0.0    0.0           0.0        0.0            0.0   \n",
      "294       0.9              1.2    0.5           5.9        1.3            0.0   \n",
      "\n",
      "     Prec_St.Magdalena in Gsies   \n",
      "0                           16.8  \n",
      "1                           25.0  \n",
      "2                            0.2  \n",
      "3                            0.4  \n",
      "4                            0.2  \n",
      "..                           ...  \n",
      "290                          0.0  \n",
      "291                          0.0  \n",
      "292                          0.0  \n",
      "293                          0.0  \n",
      "294                          0.0  \n",
      "\n",
      "[295 rows x 12 columns]\n"
     ]
    }
   ],
   "source": [
    "tabular_data = pd.read_csv(\"input_data/Drava_data.csv\")\n",
    "snow_data = np.load(\"input_data/test_snow_data.npy\", allow_pickle=True)\n",
    "print (df)"
   ]
  },
  {
   "cell_type": "code",
   "execution_count": null,
   "id": "improving-gabriel",
   "metadata": {},
   "outputs": [],
   "source": []
  },
  {
   "cell_type": "code",
   "execution_count": null,
   "id": "impressive-return",
   "metadata": {},
   "outputs": [],
   "source": []
  },
  {
   "cell_type": "code",
   "execution_count": 7,
   "id": "according-bridge",
   "metadata": {},
   "outputs": [],
   "source": [
    "date_start = \"2000-04-02\""
   ]
  },
  {
   "cell_type": "code",
   "execution_count": 23,
   "id": "defined-atlantic",
   "metadata": {},
   "outputs": [
    {
     "data": {
      "text/plain": [
       "0     2000-03-29\n",
       "1     2000-03-30\n",
       "2     2000-03-31\n",
       "3     2000-04-01\n",
       "4     2000-04-02\n",
       "         ...    \n",
       "290   2001-01-13\n",
       "291   2001-01-14\n",
       "292   2001-01-15\n",
       "293   2001-01-16\n",
       "294   2001-01-17\n",
       "Name: Date, Length: 295, dtype: datetime64[ns]"
      ]
     },
     "execution_count": 23,
     "metadata": {},
     "output_type": "execute_result"
    }
   ],
   "source": [
    "dates = pd.to_datetime(tabular_data[tabular_data.columns[0]], format=\"%d/%m/%Y\")\n",
    "\n",
    "dates"
   ]
  },
  {
   "cell_type": "code",
   "execution_count": 32,
   "id": "earned-northwest",
   "metadata": {},
   "outputs": [
    {
     "data": {
      "text/plain": [
       "Timestamp('2000-03-29 00:00:00')"
      ]
     },
     "execution_count": 32,
     "metadata": {},
     "output_type": "execute_result"
    }
   ],
   "source": [
    "pd.to_datetime(dates).loc[0]"
   ]
  },
  {
   "cell_type": "code",
   "execution_count": 35,
   "id": "following-clear",
   "metadata": {},
   "outputs": [
    {
     "data": {
      "text/plain": [
       "4"
      ]
     },
     "execution_count": 35,
     "metadata": {},
     "output_type": "execute_result"
    }
   ],
   "source": [
    "dates[dates == datetime.datetime.strptime(date_start, \"%Y-%m-%d\")].index[0]"
   ]
  },
  {
   "cell_type": "code",
   "execution_count": null,
   "id": "explicit-frame",
   "metadata": {},
   "outputs": [],
   "source": []
  },
  {
   "cell_type": "code",
   "execution_count": 19,
   "id": "immediate-appointment",
   "metadata": {},
   "outputs": [
    {
     "ename": "NameError",
     "evalue": "name 'timestamp' is not defined",
     "output_type": "error",
     "traceback": [
      "\u001b[1;31m---------------------------------------------------------------------------\u001b[0m",
      "\u001b[1;31mNameError\u001b[0m                                 Traceback (most recent call last)",
      "\u001b[1;32m<ipython-input-19-d014c5be16a9>\u001b[0m in \u001b[0;36m<module>\u001b[1;34m\u001b[0m\n\u001b[1;32m----> 1\u001b[1;33m \u001b[0mtimestamp\u001b[0m\u001b[1;33m(\u001b[0m\u001b[0mdatetime\u001b[0m\u001b[1;33m.\u001b[0m\u001b[0mdatetime\u001b[0m\u001b[1;33m.\u001b[0m\u001b[0mstrptime\u001b[0m\u001b[1;33m(\u001b[0m\u001b[0mdate_start\u001b[0m\u001b[1;33m,\u001b[0m \u001b[1;34m\"%Y-%m-%d\"\u001b[0m\u001b[1;33m)\u001b[0m\u001b[1;33m)\u001b[0m\u001b[1;33m\u001b[0m\u001b[1;33m\u001b[0m\u001b[0m\n\u001b[0m",
      "\u001b[1;31mNameError\u001b[0m: name 'timestamp' is not defined"
     ]
    }
   ],
   "source": [
    "timestamp(datetime.datetime.strptime(date_start, \"%Y-%m-%d\"))\n"
   ]
  },
  {
   "cell_type": "code",
   "execution_count": 27,
   "id": "noted-devil",
   "metadata": {},
   "outputs": [
    {
     "data": {
      "text/plain": [
       "Timestamp('2000-03-29 00:00:00')"
      ]
     },
     "execution_count": 27,
     "metadata": {},
     "output_type": "execute_result"
    }
   ],
   "source": [
    "pd.to_datetime(dates)[0]"
   ]
  },
  {
   "cell_type": "code",
   "execution_count": null,
   "id": "central-sharp",
   "metadata": {},
   "outputs": [],
   "source": []
  },
  {
   "cell_type": "code",
   "execution_count": 11,
   "id": "persistent-front",
   "metadata": {},
   "outputs": [
    {
     "data": {
      "text/plain": [
       "array([[nan, nan, nan, ..., nan, nan, nan],\n",
       "       [nan, nan, nan, ..., nan, nan, nan],\n",
       "       [nan, nan, nan, ..., nan, nan, nan],\n",
       "       ...,\n",
       "       [nan, nan, nan, ..., nan, nan, nan],\n",
       "       [nan, nan, nan, ..., nan, nan, nan],\n",
       "       [nan, nan, nan, ..., nan, nan, nan]])"
      ]
     },
     "execution_count": 11,
     "metadata": {},
     "output_type": "execute_result"
    }
   ],
   "source": [
    "snow_data[1][1]"
   ]
  },
  {
   "cell_type": "code",
   "execution_count": null,
   "id": "binding-porcelain",
   "metadata": {},
   "outputs": [],
   "source": []
  }
 ],
 "metadata": {
  "kernelspec": {
   "display_name": "Python 3",
   "language": "python",
   "name": "python3"
  },
  "language_info": {
   "codemirror_mode": {
    "name": "ipython",
    "version": 3
   },
   "file_extension": ".py",
   "mimetype": "text/x-python",
   "name": "python",
   "nbconvert_exporter": "python",
   "pygments_lexer": "ipython3",
   "version": "3.9.2"
  }
 },
 "nbformat": 4,
 "nbformat_minor": 5
}
